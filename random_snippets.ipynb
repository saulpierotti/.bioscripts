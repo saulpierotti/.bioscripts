{
 "cells": [
  {
   "cell_type": "markdown",
   "metadata": {},
   "source": [
    "# Random snippets\n",
    "This notebook contains a series of snippets for reuse in different projects. These include parsing functions and other commonly used routines. I can migrate content from here to a more specialised location when I feel it is needed. Mostly I will use a combination of python and shell scripting."
   ]
  },
  {
   "cell_type": "markdown",
   "metadata": {},
   "source": [
    "## Parsing the output summary of a PDBeFold search\n",
    "The sample file for this snippet is in `./sample_files/pdbfold_output.dat`.\n",
    "The output of PDBeFold is somewhat difficult to parse and very information rich, so I convert it to a pandas dataframe. The default separator is space `\\s+`.\n",
    "In front of the PDB ID of the query and of the target it is present the string 'PDB' separated from the actual ID by a single space. When parsing with the normal pandas.read_csv() this cause 'PDB' and the actual ID to go into different columns of the dataframe and not match with the column headers. If I skip a single space as separator I cannot parse correctly the column headers since some of them are separated by a single space. The easiest solution that I found is to just remove the 'PDB' string with sed before reading the file."
   ]
  },
  {
   "cell_type": "code",
   "execution_count": 1,
   "metadata": {},
   "outputs": [
    {
     "name": "stdout",
     "output_type": "stream",
     "text": [
      "sed: can't read ./pdbfold_output.dat: No such file or directory\n"
     ]
    }
   ],
   "source": [
    "!sed -i 's/PDB / /g' ./pdbfold_output.dat"
   ]
  },
  {
   "cell_type": "code",
   "execution_count": 3,
   "metadata": {},
   "outputs": [],
   "source": [
    "import pandas as pd\n",
    "\n",
    "\n",
    "def get_pdbfold_df(filepath):\n",
    "    with open(filepath) as dat_filein:\n",
    "        pdbfold_df = pd.read_csv(dat_filein, skiprows=(0, 1, 2, 3), sep=\"\\s+\")\n",
    "    return pdbfold_df"
   ]
  },
  {
   "cell_type": "markdown",
   "metadata": {},
   "source": [
    "Sometimes I want to easily access the chain name and the PDB ID of a target. This function splits the 'Target' column in a list containing PDB ID and chain. It raises a warning but it works."
   ]
  },
  {
   "cell_type": "code",
   "execution_count": 3,
   "metadata": {},
   "outputs": [],
   "source": [
    "def separate_chain_ID(pdbfold_df):\n",
    "    for i in range(len(pdbfold_df[\"Target\"])):\n",
    "        pdbfold_df[\"Target\"][i] = pdbfold_df[\"Target\"][i].split(\":\")\n",
    "    return pdbfold_df"
   ]
  }
 ],
 "metadata": {
  "kernelspec": {
   "display_name": "Python 3",
   "language": "python",
   "name": "python3"
  },
  "language_info": {
   "codemirror_mode": {
    "name": "ipython",
    "version": 3
   },
   "file_extension": ".py",
   "mimetype": "text/x-python",
   "name": "python",
   "nbconvert_exporter": "python",
   "pygments_lexer": "ipython3",
   "version": "3.7.6"
  }
 },
 "nbformat": 4,
 "nbformat_minor": 4
}
