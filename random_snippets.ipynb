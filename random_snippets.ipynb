{
 "cells": [
  {
   "cell_type": "markdown",
   "metadata": {},
   "source": [
    "# Random snippets\n",
    "This notebook contains a series of snippets for reuse in different projects. These include parsing functions and other commonly used routines. I can migrate content from here to a more specialised location when I feel it is needed. Mostly I will use a combination of python and shell scripting."
   ]
  },
  {
   "cell_type": "markdown",
   "metadata": {},
   "source": [
    "## Calculate the Matthews Correlation Coefficient from the confusion matrix\n",
    "When a pipe is called from python or when I use a pipe inside Jupyter by doing `!some command` in the python cell, sometimes a broken pipe error is raised.\n",
    "This is because of how python itself hanldes the message SIGPIPE, that communicates when a part of the pipe is not receiving anymore (i.e. when head stops taking input because it reached the desired line).\n",
    "This throws an error in python.\n",
    "The following script, if executed before the offending line, makes the system itself handle the issue (SIG_DFL, system default) instead of using the default python mechanism.\n",
    "The signal function in this case assigns SIG_DFL as an handler for the SIGPIPE call.\n",
    "\n",
    "For more: https://stackoverflow.com/questions/14207708/ioerror-errno-32-broken-pipe-python"
   ]
  },
  {
   "cell_type": "code",
   "execution_count": null,
   "metadata": {},
   "outputs": [],
   "source": [
    "def get_MCC(confusion_mat):\n",
    "    t_pos = confusion_mat[0,0]\n",
    "    t_neg = confusion_mat[1,0]\n",
    "    f_pos = confusion_mat[0,1]\n",
    "    f_neg = confusion_mat[1,1]\n",
    "    above_frac = t_pos*t_neg-f_pos*f_neg\n",
    "    below_frac = np.sqrt((t_pos+f_pos)*(t_pos+f_neg)*(t_neg+f_pos)*(t_neg+f_neg))\n",
    "    MCC = above_frac/max(below_frac,1) # otherwise I can divide by 0\n",
    "    return MCC"
   ]
  },
  {
   "cell_type": "markdown",
   "metadata": {},
   "source": [
    "## Avoid broken pipes in python and jupyter\n",
    "When a pipe is called from python or when I use a pipe inside Jupyter by doing `!some command` in the python cell, sometimes a broken pipe error is raised.\n",
    "This is because of how python itself hanldes the message SIGPIPE, that communicates when a part of the pipe is not receiving anymore (i.e. when head stops taking input because it reached the desired line).\n",
    "This throws an error in python.\n",
    "The following script, if executed before the offending line, makes the system itself handle the issue (SIG_DFL, system default) instead of using the default python mechanism.\n",
    "The signal function in this case assigns SIG_DFL as an handler for the SIGPIPE call.\n",
    "\n",
    "For more: https://stackoverflow.com/questions/14207708/ioerror-errno-32-broken-pipe-python"
   ]
  },
  {
   "cell_type": "code",
   "execution_count": 2,
   "metadata": {},
   "outputs": [
    {
     "data": {
      "text/plain": [
       "<Handlers.SIG_DFL: 0>"
      ]
     },
     "execution_count": 2,
     "metadata": {},
     "output_type": "execute_result"
    }
   ],
   "source": [
    "# this avoids broken pipes by making the default system handler handle the SIGPIPE call\n",
    "# see https://stackoverflow.com/questions/14207708/ioerror-errno-32-broken-pipe-python\n",
    "from signal import signal, SIGPIPE, SIG_DFL\n",
    "signal(SIGPIPE, SIG_DFL) "
   ]
  },
  {
   "cell_type": "markdown",
   "metadata": {},
   "source": [
    "## Parsing the output summary of a PDBeFold search\n",
    "The sample file for this snippet is in `./sample_files/pdbfold_output.dat`.\n",
    "The output of PDBeFold is somewhat difficult to parse and very information rich, so I convert it to a pandas dataframe. The default separator is space `\\s+`.\n",
    "In front of the PDB ID of the query and of the target it is present the string 'PDB' separated from the actual ID by a single space. When parsing with the normal pandas.read_csv() this cause 'PDB' and the actual ID to go into different columns of the dataframe and not match with the column headers. If I skip a single space as separator I cannot parse correctly the column headers since some of them are separated by a single space. The easiest solution that I found is to just remove the 'PDB' string with sed before reading the file."
   ]
  },
  {
   "cell_type": "code",
   "execution_count": 41,
   "metadata": {},
   "outputs": [],
   "source": [
    "!sed -i 's/PDB / /g' ./sample_files/pdbfold_output.dat"
   ]
  },
  {
   "cell_type": "code",
   "execution_count": 42,
   "metadata": {},
   "outputs": [],
   "source": [
    "import pandas as pd\n",
    "\n",
    "\n",
    "def get_pdbfold_df(filepath):\n",
    "    with open(filepath) as dat_filein:\n",
    "        pdbfold_df = pd.read_csv(dat_filein, skiprows=(0, 1, 2, 3), sep=\"\\s+\").set_index('##')\n",
    "    pdbfold_df[\"Query\"]= pdbfold_df[\"Query\"].str.split(\":\")\n",
    "    pdbfold_df[\"Target\"]= pdbfold_df[\"Target\"].str.split(\":\")\n",
    "    return pdbfold_df"
   ]
  },
  {
   "cell_type": "markdown",
   "metadata": {},
   "source": [
    "The resulting dataframe is also split in a list in the 'Target' and 'Query' columns so to more easily access PDB IDs and chain IDs."
   ]
  },
  {
   "cell_type": "code",
   "execution_count": 44,
   "metadata": {},
   "outputs": [
    {
     "data": {
      "text/html": [
       "<div>\n",
       "<style scoped>\n",
       "    .dataframe tbody tr th:only-of-type {\n",
       "        vertical-align: middle;\n",
       "    }\n",
       "\n",
       "    .dataframe tbody tr th {\n",
       "        vertical-align: top;\n",
       "    }\n",
       "\n",
       "    .dataframe thead th {\n",
       "        text-align: right;\n",
       "    }\n",
       "</style>\n",
       "<table border=\"1\" class=\"dataframe\">\n",
       "  <thead>\n",
       "    <tr style=\"text-align: right;\">\n",
       "      <th></th>\n",
       "      <th>Q-score</th>\n",
       "      <th>P-score</th>\n",
       "      <th>Z-score</th>\n",
       "      <th>RMSD</th>\n",
       "      <th>Nalgn</th>\n",
       "      <th>Nsse</th>\n",
       "      <th>Ngaps</th>\n",
       "      <th>Seq-%</th>\n",
       "      <th>Nmd</th>\n",
       "      <th>Nres-Q</th>\n",
       "      <th>Nsse-Q</th>\n",
       "      <th>Nres-T</th>\n",
       "      <th>Nsse-T</th>\n",
       "      <th>Query</th>\n",
       "      <th>Target</th>\n",
       "    </tr>\n",
       "    <tr>\n",
       "      <th>##</th>\n",
       "      <th></th>\n",
       "      <th></th>\n",
       "      <th></th>\n",
       "      <th></th>\n",
       "      <th></th>\n",
       "      <th></th>\n",
       "      <th></th>\n",
       "      <th></th>\n",
       "      <th></th>\n",
       "      <th></th>\n",
       "      <th></th>\n",
       "      <th></th>\n",
       "      <th></th>\n",
       "      <th></th>\n",
       "      <th></th>\n",
       "    </tr>\n",
       "  </thead>\n",
       "  <tbody>\n",
       "    <tr>\n",
       "      <th>1</th>\n",
       "      <td>1.0000</td>\n",
       "      <td>16.18</td>\n",
       "      <td>11.93</td>\n",
       "      <td>0.000</td>\n",
       "      <td>56</td>\n",
       "      <td>4</td>\n",
       "      <td>0</td>\n",
       "      <td>1.0</td>\n",
       "      <td>0</td>\n",
       "      <td>56</td>\n",
       "      <td>4</td>\n",
       "      <td>56</td>\n",
       "      <td>4</td>\n",
       "      <td>[3tgi, I]</td>\n",
       "      <td>[3tgi, I]</td>\n",
       "    </tr>\n",
       "    <tr>\n",
       "      <th>2</th>\n",
       "      <td>0.9986</td>\n",
       "      <td>13.58</td>\n",
       "      <td>10.90</td>\n",
       "      <td>0.112</td>\n",
       "      <td>56</td>\n",
       "      <td>4</td>\n",
       "      <td>0</td>\n",
       "      <td>1.0</td>\n",
       "      <td>0</td>\n",
       "      <td>56</td>\n",
       "      <td>4</td>\n",
       "      <td>56</td>\n",
       "      <td>4</td>\n",
       "      <td>[3tgi, I]</td>\n",
       "      <td>[1f7z, I]</td>\n",
       "    </tr>\n",
       "    <tr>\n",
       "      <th>3</th>\n",
       "      <td>0.9984</td>\n",
       "      <td>13.58</td>\n",
       "      <td>10.90</td>\n",
       "      <td>0.121</td>\n",
       "      <td>56</td>\n",
       "      <td>4</td>\n",
       "      <td>0</td>\n",
       "      <td>1.0</td>\n",
       "      <td>0</td>\n",
       "      <td>56</td>\n",
       "      <td>4</td>\n",
       "      <td>56</td>\n",
       "      <td>4</td>\n",
       "      <td>[3tgi, I]</td>\n",
       "      <td>[1fy8, I]</td>\n",
       "    </tr>\n",
       "    <tr>\n",
       "      <th>4</th>\n",
       "      <td>0.9984</td>\n",
       "      <td>13.58</td>\n",
       "      <td>10.90</td>\n",
       "      <td>0.122</td>\n",
       "      <td>56</td>\n",
       "      <td>4</td>\n",
       "      <td>0</td>\n",
       "      <td>1.0</td>\n",
       "      <td>0</td>\n",
       "      <td>56</td>\n",
       "      <td>4</td>\n",
       "      <td>56</td>\n",
       "      <td>4</td>\n",
       "      <td>[3tgi, I]</td>\n",
       "      <td>[1ykt, B]</td>\n",
       "    </tr>\n",
       "    <tr>\n",
       "      <th>5</th>\n",
       "      <td>0.9975</td>\n",
       "      <td>13.13</td>\n",
       "      <td>10.71</td>\n",
       "      <td>0.151</td>\n",
       "      <td>56</td>\n",
       "      <td>4</td>\n",
       "      <td>0</td>\n",
       "      <td>1.0</td>\n",
       "      <td>0</td>\n",
       "      <td>56</td>\n",
       "      <td>4</td>\n",
       "      <td>56</td>\n",
       "      <td>4</td>\n",
       "      <td>[3tgi, I]</td>\n",
       "      <td>[3tgk, I]</td>\n",
       "    </tr>\n",
       "  </tbody>\n",
       "</table>\n",
       "</div>"
      ],
      "text/plain": [
       "    Q-score  P-score  Z-score   RMSD  Nalgn  Nsse  Ngaps  Seq-%  Nmd  Nres-Q  \\\n",
       "##                                                                             \n",
       "1    1.0000    16.18    11.93  0.000     56     4      0    1.0    0      56   \n",
       "2    0.9986    13.58    10.90  0.112     56     4      0    1.0    0      56   \n",
       "3    0.9984    13.58    10.90  0.121     56     4      0    1.0    0      56   \n",
       "4    0.9984    13.58    10.90  0.122     56     4      0    1.0    0      56   \n",
       "5    0.9975    13.13    10.71  0.151     56     4      0    1.0    0      56   \n",
       "\n",
       "    Nsse-Q  Nres-T  Nsse-T      Query     Target  \n",
       "##                                                \n",
       "1        4      56       4  [3tgi, I]  [3tgi, I]  \n",
       "2        4      56       4  [3tgi, I]  [1f7z, I]  \n",
       "3        4      56       4  [3tgi, I]  [1fy8, I]  \n",
       "4        4      56       4  [3tgi, I]  [1ykt, B]  \n",
       "5        4      56       4  [3tgi, I]  [3tgk, I]  "
      ]
     },
     "execution_count": 44,
     "metadata": {},
     "output_type": "execute_result"
    }
   ],
   "source": [
    "pdbfold_df = get_pdbfold_df('./sample_files/pdbfold_output.dat')\n",
    "pdbfold_df.head()"
   ]
  }
 ],
 "metadata": {
  "kernelspec": {
   "display_name": "Python 3",
   "language": "python",
   "name": "python3"
  },
  "language_info": {
   "codemirror_mode": {
    "name": "ipython",
    "version": 3
   },
   "file_extension": ".py",
   "mimetype": "text/x-python",
   "name": "python",
   "nbconvert_exporter": "python",
   "pygments_lexer": "ipython3",
   "version": "3.7.7"
  }
 },
 "nbformat": 4,
 "nbformat_minor": 4
}
